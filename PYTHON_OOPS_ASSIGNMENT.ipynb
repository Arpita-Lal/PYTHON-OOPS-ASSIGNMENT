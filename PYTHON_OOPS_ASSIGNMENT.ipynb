{
  "nbformat": 4,
  "nbformat_minor": 0,
  "metadata": {
    "colab": {
      "provenance": []
    },
    "kernelspec": {
      "name": "python3",
      "display_name": "Python 3"
    },
    "language_info": {
      "name": "python"
    }
  },
  "cells": [
    {
      "cell_type": "markdown",
      "source": [
        "**PYTHON OOPS QUESTIONS:**"
      ],
      "metadata": {
        "id": "ix2mLYXAFCdF"
      }
    },
    {
      "cell_type": "markdown",
      "source": [
        "**THEORY QUESTIONS:**"
      ],
      "metadata": {
        "id": "ERURs8YpFBni"
      }
    },
    {
      "cell_type": "markdown",
      "source": [
        "1. What is Object-Oriented Programming (OOP)?\n",
        "\n",
        "ANS. OOP is a programming paradigm based on the concept of objects and classes. It helps model real-world entities using attributes (data) and methods (behavior), promoting code reuse, abstraction, inheritance, encapsulation, and better software design.\n",
        "\n",
        "2. What is a class in OOP?\n",
        "\n",
        "ANS. A class is a user-defined blueprint or prototype from which objects are created. It defines a set of attributes and methods that describe the behavior and state of the objects that belong to that class.\n",
        "\n",
        "3. What is an object in OOP?\n",
        "\n",
        "ANS. An object is an instance of a class that encapsulates data and behavior. It interacts with other objects or functions and is used to represent real-world things like users, shapes, or employees in code.\n",
        "\n",
        "4. What is the difference between abstraction and encapsulation?\n",
        "\n",
        "ANS. Abstraction hides unnecessary implementation details and shows only essential features, simplifying complexity. Encapsulation binds data and methods together, restricting direct access and protecting the internal state of an object from unauthorized changes.\n",
        "\n",
        "5. What are dunder methods in Python?\n",
        "\n",
        "ANS. Dunder (double underscore) methods like __init__, __str__, __len__ are special methods used to define behavior for built-in Python operations. They enable operator overloading and customization of class functionality during object manipulation.\n",
        "\n",
        "6. Explain the concept of inheritance in OOP.\n",
        "\n",
        "ANS. Inheritance allows a class (child or subclass) to inherit attributes and methods from another class (parent or superclass). It promotes code reuse and helps create a class hierarchy, reducing redundancy in object-oriented programs.\n",
        "\n",
        "7. What is polymorphism in OOP?\n",
        "\n",
        "ANS. Polymorphism allows different classes to define the same method name but with different behaviors. It enables one interface to represent different underlying data types, increasing code flexibility, scalability, and allowing for method overriding and overloading.\n",
        "\n",
        "8. How is encapsulation achieved in Python?\n",
        "\n",
        "ANS. Encapsulation is achieved by defining private (__var) or protected (_var) attributes and using getter/setter methods. This restricts direct access to data, enforcing data hiding and safeguarding internal object states from unintended modifications.\n",
        "\n",
        "9. What is a constructor in Python?\n",
        "\n",
        "ANS. A constructor in Python is defined using the __init__() method. It is automatically called when a new object is created and is used to initialize the object’s attributes with user-defined or default values.\n",
        "\n",
        "10. What are class and static methods in Python?\n",
        "\n",
        "ANS.Class methods use the @classmethod decorator and take cls as the first parameter, allowing access to class-level data. Static methods use @staticmethod and behave like regular functions within the class without accessing class data.\n",
        "\n",
        "11. What is method overloading in Python?\n",
        "\n",
        "ANS. Python doesn’t support traditional method overloading. However, it can be mimicked using default arguments or *args and **kwargs, allowing a single method to behave differently depending on the number and type of arguments passed.\n",
        "\n",
        "12. What is method overriding in OOP?\n",
        "\n",
        "ANS. Method overriding occurs when a subclass redefines a method from its parent class with the same name and parameters. This allows the subclass to provide its specific implementation of the method, enabling polymorphic behavior.\n",
        "\n",
        "13. What is a property decorator in Python?\n",
        "\n",
        "ANS. The @property decorator turns a method into a read-only attribute. It’s used for controlled access to private variables and can be paired with @setter and @deleter decorators for full property management.\n",
        "\n",
        "14. Why is polymorphism important in OOP?\n",
        "\n",
        "ANS. Polymorphism is important because it enables flexibility and code reuse. It allows the same function or method to work with different types of objects, making it easier to write generic, extensible, and maintainable code.\n",
        "\n",
        "15. What is an abstract class in Python?\n",
        "\n",
        "ANS. An abstract class is defined using the abc module and contains one or more abstract methods. It serves as a base class and cannot be instantiated. Subclasses must implement all abstract methods to be concrete.\n",
        "\n",
        "16. What are the advantages of OOP?\n",
        "\n",
        "ANS. OOP offers modularity, reusability, and organized code through concepts like inheritance, encapsulation, and polymorphism. It mirrors real-world structures, supports scalability, and simplifies debugging, making complex software systems easier to manage and maintain.\n",
        "\n",
        "17. What is the difference between a class variable and an instance variable?\n",
        "\n",
        "ANS. A class variable is shared across all instances of a class and defined outside any method. An instance variable is unique to each object and defined using self inside the constructor or instance methods.\n",
        "\n",
        "18. What is multiple inheritance in Python?\n",
        "\n",
        "ANS. Multiple inheritance occurs when a class inherits from more than one base class. It allows the child class to access and combine features of multiple parent classes, but can lead to method resolution conflicts if not handled properly.\n",
        "\n",
        "19. Explain the purpose of __str__ and __repr__ methods in Python.\n",
        "\n",
        "ANS. __str__ returns a readable string representation for end users. __repr__ returns an unambiguous string mainly for developers. Both improve debugging and readability by customizing how objects are printed or logged.\n",
        "\n",
        "20. What is the significance of the super() function in Python?\n",
        "\n",
        "ANS. The super() function allows you to call a method from a parent class. It’s commonly used in constructors to inherit and extend the functionality of the parent class without explicitly naming it.\n",
        "\n",
        "21. What is the significance of the __del__ method in Python?\n",
        "\n",
        "ANS. The __del__ method is a destructor called automatically when an object is about to be destroyed. It is useful for cleanup tasks like closing files, releasing memory, or disconnecting from databases.\n",
        "\n",
        "22. What is the difference between @staticmethod and @classmethod in Python?\n",
        "\n",
        "ANS. @staticmethod defines a method that does not access class or instance data. @classmethod takes cls as the first argument and can modify class-level attributes, allowing better control over class behavior.\n",
        "\n",
        "23. How does polymorphism work in Python with inheritance?\n",
        "\n",
        "ANS. In inheritance, subclasses can override parent class methods. When a common method is called on different subclass objects, Python executes the version defined in the subclass, enabling polymorphic behavior and flexible method reuse.\n",
        "\n",
        "24. What is method chaining in Python OOP?\n",
        "\n",
        "ANS. Method chaining allows multiple methods to be called in a single line by returning self from each method. It improves code readability and enables fluent programming styles for object configuration and modification.\n",
        "\n",
        "25. What is the purpose of the __call__ method in Python?\n",
        "\n",
        "ANS. The __call__ method allows an instance of a class to be invoked like a regular function using parentheses. This enables objects to exhibit callable behavior and enhances flexibility in class-based designs.\n",
        "\n"
      ],
      "metadata": {
        "id": "bhqyUYQ5FUYh"
      }
    },
    {
      "cell_type": "markdown",
      "source": [
        "**PRACTICAL QUESTIONS**"
      ],
      "metadata": {
        "id": "7Pnd9lR_IUwz"
      }
    },
    {
      "cell_type": "markdown",
      "source": [
        "1. Create a parent class Animal with a method speak() that prints a generic message. Create a child class Dog that overrides the speak() method to print \"Bark!\".\n"
      ],
      "metadata": {
        "id": "lbcxmUjBIm5w"
      }
    },
    {
      "cell_type": "code",
      "execution_count": 1,
      "metadata": {
        "colab": {
          "base_uri": "https://localhost:8080/"
        },
        "id": "joR_wnqEE6AX",
        "outputId": "39a5b769-c840-4388-eeec-9151dbe435f1"
      },
      "outputs": [
        {
          "output_type": "stream",
          "name": "stdout",
          "text": [
            "Bark!\n"
          ]
        }
      ],
      "source": [
        "class Animal:\n",
        "    def speak(self):\n",
        "        print(\"This is a generic animal sound.\")\n",
        "\n",
        "class Dog(Animal):\n",
        "    def speak(self):\n",
        "        print(\"Bark!\")\n",
        "\n",
        "dog = Dog()\n",
        "dog.speak()\n"
      ]
    },
    {
      "cell_type": "markdown",
      "source": [
        "2. Write a program to create an abstract class Shape with a method area(). Derive classes Circle and Rectangle from it and implement the area() method in both.\n"
      ],
      "metadata": {
        "id": "sKz80fXaInwL"
      }
    },
    {
      "cell_type": "code",
      "source": [
        "from abc import ABC, abstractmethod\n",
        "\n",
        "class Shape(ABC):\n",
        "    @abstractmethod\n",
        "    def area(self):\n",
        "        pass\n",
        "\n",
        "class Circle(Shape):\n",
        "    def __init__(self, radius):\n",
        "        self.radius = radius\n",
        "\n",
        "    def area(self):\n",
        "        return 3.14 * self.radius ** 2\n",
        "\n",
        "class Rectangle(Shape):\n",
        "    def __init__(self, length, breadth):\n",
        "        self.length = length\n",
        "        self.breadth = breadth\n",
        "\n",
        "    def area(self):\n",
        "        return self.length * self.breadth\n",
        "\n",
        "c = Circle(5)\n",
        "r = Rectangle(4, 6)\n",
        "print(c.area())\n",
        "print(r.area())\n"
      ],
      "metadata": {
        "colab": {
          "base_uri": "https://localhost:8080/"
        },
        "id": "FX-j8CVWIiag",
        "outputId": "710bf82e-3605-4055-8b1f-b982d32d52a4"
      },
      "execution_count": 2,
      "outputs": [
        {
          "output_type": "stream",
          "name": "stdout",
          "text": [
            "78.5\n",
            "24\n"
          ]
        }
      ]
    },
    {
      "cell_type": "markdown",
      "source": [
        "3. Implement a multi-level inheritance scenario where a class Vehicle has an attribute type. Derive a class Car and further derive a class ElectricCar that adds a battery attribute"
      ],
      "metadata": {
        "id": "Vgcsp-9ZI42u"
      }
    },
    {
      "cell_type": "code",
      "source": [
        "class Vehicle:\n",
        "    def __init__(self, type):\n",
        "        self.type = type\n",
        "\n",
        "class Car(Vehicle):\n",
        "    def __init__(self, type, brand):\n",
        "        super().__init__(type)\n",
        "        self.brand = brand\n",
        "\n",
        "class ElectricCar(Car):\n",
        "    def __init__(self, type, brand, battery):\n",
        "        super().__init__(type, brand)\n",
        "        self.battery = battery\n",
        "\n",
        "ec = ElectricCar(\"Sedan\", \"Tesla\", \"100kWh\")\n",
        "print(ec.type, ec.brand, ec.battery)\n"
      ],
      "metadata": {
        "colab": {
          "base_uri": "https://localhost:8080/"
        },
        "id": "tSSFi5yuIiIR",
        "outputId": "1adf5fec-8d00-4df2-96d6-f838fbfbf7a3"
      },
      "execution_count": 3,
      "outputs": [
        {
          "output_type": "stream",
          "name": "stdout",
          "text": [
            "Sedan Tesla 100kWh\n"
          ]
        }
      ]
    },
    {
      "cell_type": "markdown",
      "source": [
        "4. Demonstrate polymorphism by creating a base class Bird with a method fly(). Create two derived classes Sparrow and Penguin that override the fly() method.\n"
      ],
      "metadata": {
        "id": "sDFAwq7AI9Cb"
      }
    },
    {
      "cell_type": "code",
      "source": [
        "class Bird:\n",
        "    def fly(self):\n",
        "        print(\"Some birds can fly.\")\n",
        "\n",
        "class Sparrow(Bird):\n",
        "    def fly(self):\n",
        "        print(\"Sparrow flies high.\")\n",
        "\n",
        "class Penguin(Bird):\n",
        "    def fly(self):\n",
        "        print(\"Penguins can't fly.\")\n",
        "\n",
        "birds = [Sparrow(), Penguin()]\n",
        "for bird in birds:\n",
        "    bird.fly()\n"
      ],
      "metadata": {
        "colab": {
          "base_uri": "https://localhost:8080/"
        },
        "id": "1FmnvVjFIiE4",
        "outputId": "f49e0b38-d294-4eac-c24a-bacdab90bd89"
      },
      "execution_count": 4,
      "outputs": [
        {
          "output_type": "stream",
          "name": "stdout",
          "text": [
            "Sparrow flies high.\n",
            "Penguins can't fly.\n"
          ]
        }
      ]
    },
    {
      "cell_type": "markdown",
      "source": [
        "5. Write a program to demonstrate encapsulation by creating a class BankAccount with private attributes balance and methods to deposit, withdraw, and check balance.\n"
      ],
      "metadata": {
        "id": "2qjyw5MaJBQv"
      }
    },
    {
      "cell_type": "code",
      "source": [
        "class BankAccount:\n",
        "    def __init__(self, balance):\n",
        "        self.__balance = balance\n",
        "\n",
        "    def deposit(self, amount):\n",
        "        self.__balance += amount\n",
        "\n",
        "    def withdraw(self, amount):\n",
        "        if amount <= self.__balance:\n",
        "            self.__balance -= amount\n",
        "\n",
        "    def check_balance(self):\n",
        "        return self.__balance\n",
        "\n",
        "acc = BankAccount(1000)\n",
        "acc.deposit(500)\n",
        "acc.withdraw(200)\n",
        "print(acc.check_balance())\n"
      ],
      "metadata": {
        "colab": {
          "base_uri": "https://localhost:8080/"
        },
        "id": "q4YwGhyLIiCW",
        "outputId": "cf5ffba5-4754-496d-ba39-f91dfb1f8b0e"
      },
      "execution_count": 5,
      "outputs": [
        {
          "output_type": "stream",
          "name": "stdout",
          "text": [
            "1300\n"
          ]
        }
      ]
    },
    {
      "cell_type": "markdown",
      "source": [
        "6. Demonstrate runtime polymorphism using a method play() in a base class Instrument. Derive classes Guitar and Piano that implement their own version of play().\n"
      ],
      "metadata": {
        "id": "PErsdrlYJFcM"
      }
    },
    {
      "cell_type": "code",
      "source": [
        "class Instrument:\n",
        "    def play(self):\n",
        "        pass\n",
        "\n",
        "class Guitar(Instrument):\n",
        "    def play(self):\n",
        "        print(\"Playing Guitar\")\n",
        "\n",
        "class Piano(Instrument):\n",
        "    def play(self):\n",
        "        print(\"Playing Piano\")\n",
        "\n",
        "for i in [Guitar(), Piano()]:\n",
        "    i.play()\n"
      ],
      "metadata": {
        "colab": {
          "base_uri": "https://localhost:8080/"
        },
        "id": "aEliLVCLIh_1",
        "outputId": "6e2acfd6-38cc-4785-c7bb-bdfac91bb68a"
      },
      "execution_count": 6,
      "outputs": [
        {
          "output_type": "stream",
          "name": "stdout",
          "text": [
            "Playing Guitar\n",
            "Playing Piano\n"
          ]
        }
      ]
    },
    {
      "cell_type": "markdown",
      "source": [
        "7. Create a class MathOperations with a class method add_numbers() to add two numbers and a static method subtract_numbers() to subtract two numbers.\n"
      ],
      "metadata": {
        "id": "q7i40EaLJJ4k"
      }
    },
    {
      "cell_type": "code",
      "source": [
        "class MathOperations:\n",
        "    @classmethod\n",
        "    def add_numbers(cls, a, b):\n",
        "        return a + b\n",
        "\n",
        "    @staticmethod\n",
        "    def subtract_numbers(a, b):\n",
        "        return a - b\n",
        "\n",
        "print(MathOperations.add_numbers(10, 5))\n",
        "print(MathOperations.subtract_numbers(10, 5))\n"
      ],
      "metadata": {
        "colab": {
          "base_uri": "https://localhost:8080/"
        },
        "id": "xqT6_nEpIh80",
        "outputId": "b452d4a7-9c73-4b23-9d47-ac28661b902d"
      },
      "execution_count": 7,
      "outputs": [
        {
          "output_type": "stream",
          "name": "stdout",
          "text": [
            "15\n",
            "5\n"
          ]
        }
      ]
    },
    {
      "cell_type": "markdown",
      "source": [
        "8. Implement a class Person with a class method to count the total number of persons created.\n"
      ],
      "metadata": {
        "id": "GM3q3EQKJNuI"
      }
    },
    {
      "cell_type": "code",
      "source": [
        "class Person:\n",
        "    count = 0\n",
        "\n",
        "    def __init__(self, name):\n",
        "        self.name = name\n",
        "        Person.count += 1\n",
        "\n",
        "print(Person.count)\n",
        "p1 = Person(\"A\")\n",
        "p2 = Person(\"B\")\n",
        "print(Person.count)\n"
      ],
      "metadata": {
        "colab": {
          "base_uri": "https://localhost:8080/"
        },
        "id": "B_DlOIMUIh0t",
        "outputId": "d4c25212-4e5c-400e-81d3-135d8492c891"
      },
      "execution_count": 8,
      "outputs": [
        {
          "output_type": "stream",
          "name": "stdout",
          "text": [
            "0\n",
            "2\n"
          ]
        }
      ]
    },
    {
      "cell_type": "markdown",
      "source": [
        "9. Write a class Fraction with attributes numerator and denominator. Override the str method to display the fraction as 'numerator/denominator\".\n"
      ],
      "metadata": {
        "id": "v6TF7omPJROk"
      }
    },
    {
      "cell_type": "code",
      "source": [
        "class Fraction:\n",
        "    def __init__(self, numerator, denominator):\n",
        "        self.numerator = numerator\n",
        "        self.denominator = denominator\n",
        "\n",
        "    def __str__(self):\n",
        "        return f\"{self.numerator}/{self.denominator}\"\n",
        "\n",
        "f = Fraction(3, 4)\n",
        "print(f)\n"
      ],
      "metadata": {
        "colab": {
          "base_uri": "https://localhost:8080/"
        },
        "id": "Z8xRmaLRIhxW",
        "outputId": "c6b0063d-c598-457c-a028-ed4b681675d5"
      },
      "execution_count": 9,
      "outputs": [
        {
          "output_type": "stream",
          "name": "stdout",
          "text": [
            "3/4\n"
          ]
        }
      ]
    },
    {
      "cell_type": "markdown",
      "source": [
        "10. Demonstrate operator overloading by creating a class Vector and overriding the add method to add two vectors.\n"
      ],
      "metadata": {
        "id": "KisTKr2_JWrl"
      }
    },
    {
      "cell_type": "code",
      "source": [
        "class Vector:\n",
        "    def __init__(self, x, y):\n",
        "        self.x = x\n",
        "        self.y = y\n",
        "\n",
        "    def __add__(self, other):\n",
        "        return Vector(self.x + other.x, self.y + other.y)\n",
        "\n",
        "    def __str__(self):\n",
        "        return f\"Vector({self.x}, {self.y})\"\n",
        "\n",
        "v1 = Vector(1, 2)\n",
        "v2 = Vector(3, 4)\n",
        "print(v1 + v2)\n"
      ],
      "metadata": {
        "colab": {
          "base_uri": "https://localhost:8080/"
        },
        "id": "-XFXKrbkIhuy",
        "outputId": "8de76361-383e-44aa-91ea-479ef47a9d66"
      },
      "execution_count": 10,
      "outputs": [
        {
          "output_type": "stream",
          "name": "stdout",
          "text": [
            "Vector(4, 6)\n"
          ]
        }
      ]
    },
    {
      "cell_type": "markdown",
      "source": [
        "11. Create a class Person with attributes name and age. Add a method greet() that prints \"Hello, my name is {name} and I am {age} years old.\"\n"
      ],
      "metadata": {
        "id": "PXgLFHtuJbtu"
      }
    },
    {
      "cell_type": "code",
      "source": [
        "class Person:\n",
        "    def __init__(self, name, age):\n",
        "        self.name = name\n",
        "        self.age = age\n",
        "\n",
        "    def greet(self):\n",
        "        print(f\"Hello, my name is {self.name} and I am {self.age} years old.\")\n",
        "\n",
        "p = Person(\"John\", 25)\n",
        "p.greet()\n"
      ],
      "metadata": {
        "colab": {
          "base_uri": "https://localhost:8080/"
        },
        "id": "6hFsm0ZWJbDA",
        "outputId": "06a14a63-ce70-401c-e49a-c61418a7deee"
      },
      "execution_count": 11,
      "outputs": [
        {
          "output_type": "stream",
          "name": "stdout",
          "text": [
            "Hello, my name is John and I am 25 years old.\n"
          ]
        }
      ]
    },
    {
      "cell_type": "markdown",
      "source": [
        "12. Implement a class Student with attributes name and grades. Create a method average_grade() to compute the average of the grades.\n"
      ],
      "metadata": {
        "id": "0esNN_WUJgRo"
      }
    },
    {
      "cell_type": "code",
      "source": [
        "class Student:\n",
        "    def __init__(self, name, grades):\n",
        "        self.name = name\n",
        "        self.grades = grades\n",
        "\n",
        "    def average_grade(self):\n",
        "        return sum(self.grades) / len(self.grades)\n",
        "\n",
        "s = Student(\"Anna\", [80, 90, 85])\n",
        "print(s.average_grade())\n"
      ],
      "metadata": {
        "colab": {
          "base_uri": "https://localhost:8080/"
        },
        "id": "JdU3nAgHIhr6",
        "outputId": "eea28661-a7fb-4d3b-fa95-55854f4223e6"
      },
      "execution_count": 12,
      "outputs": [
        {
          "output_type": "stream",
          "name": "stdout",
          "text": [
            "85.0\n"
          ]
        }
      ]
    },
    {
      "cell_type": "markdown",
      "source": [
        "13. Create a class Rectangle with methods set_dimensions() to set the dimensions and area() to calculate the area."
      ],
      "metadata": {
        "id": "mBO2OBySJkZJ"
      }
    },
    {
      "cell_type": "code",
      "source": [
        "class Rectangle:\n",
        "    def set_dimensions(self, length, breadth):\n",
        "        self.length = length\n",
        "        self.breadth = breadth\n",
        "\n",
        "    def area(self):\n",
        "        return self.length * self.breadth\n",
        "\n",
        "r = Rectangle()\n",
        "r.set_dimensions(5, 4)\n",
        "print(r.area())\n"
      ],
      "metadata": {
        "colab": {
          "base_uri": "https://localhost:8080/"
        },
        "id": "sPh3Au7BIhpY",
        "outputId": "8d180f4a-fb67-4a82-f649-14009c97ff8a"
      },
      "execution_count": 13,
      "outputs": [
        {
          "output_type": "stream",
          "name": "stdout",
          "text": [
            "20\n"
          ]
        }
      ]
    },
    {
      "cell_type": "markdown",
      "source": [
        "14. Create a class Employee with a method calculate_salary() that computes the salary based on hours worked and hourly rate. Create a derived class Manager that adds a bonus to the salary."
      ],
      "metadata": {
        "id": "IKajmGTSJpCk"
      }
    },
    {
      "cell_type": "code",
      "source": [
        "class Employee:\n",
        "    def __init__(self, hours, rate):\n",
        "        self.hours = hours\n",
        "        self.rate = rate\n",
        "\n",
        "    def calculate_salary(self):\n",
        "        return self.hours * self.rate\n",
        "\n",
        "class Manager(Employee):\n",
        "    def __init__(self, hours, rate, bonus):\n",
        "        super().__init__(hours, rate)\n",
        "        self.bonus = bonus\n",
        "\n",
        "    def calculate_salary(self):\n",
        "        return super().calculate_salary() + self.bonus\n",
        "\n",
        "m = Manager(40, 100, 500)\n",
        "print(m.calculate_salary())\n"
      ],
      "metadata": {
        "colab": {
          "base_uri": "https://localhost:8080/"
        },
        "id": "zKCxZ8LeIhmP",
        "outputId": "a66355aa-0b42-423d-82fa-66531beb5791"
      },
      "execution_count": 14,
      "outputs": [
        {
          "output_type": "stream",
          "name": "stdout",
          "text": [
            "4500\n"
          ]
        }
      ]
    },
    {
      "cell_type": "markdown",
      "source": [
        "15. Create a class Product with attributes name, price, and quantity. Implement a method total_price() that calculates the total price of the product..\n"
      ],
      "metadata": {
        "id": "ZjhHc3YrJs23"
      }
    },
    {
      "cell_type": "code",
      "source": [
        "class Product:\n",
        "    def __init__(self, name, price, quantity):\n",
        "        self.name = name\n",
        "        self.price = price\n",
        "        self.quantity = quantity\n",
        "\n",
        "    def total_price(self):\n",
        "        return self.price * self.quantity\n",
        "\n",
        "p = Product(\"Laptop\", 50000, 2)\n",
        "print(p.total_price())\n"
      ],
      "metadata": {
        "colab": {
          "base_uri": "https://localhost:8080/"
        },
        "id": "RhaxTapAIhjs",
        "outputId": "544d1970-d855-4931-bf40-2bf03d0c8ac8"
      },
      "execution_count": 15,
      "outputs": [
        {
          "output_type": "stream",
          "name": "stdout",
          "text": [
            "100000\n"
          ]
        }
      ]
    },
    {
      "cell_type": "markdown",
      "source": [
        "16. Create a class Animal with an abstract method sound(). Create two derived classes Cow and Sheep that implement the sound() method.\n"
      ],
      "metadata": {
        "id": "ucKPnscaJwq4"
      }
    },
    {
      "cell_type": "code",
      "source": [
        "from abc import ABC, abstractmethod\n",
        "\n",
        "class Animal(ABC):\n",
        "    @abstractmethod\n",
        "    def sound(self):\n",
        "        pass\n",
        "\n",
        "class Cow(Animal):\n",
        "    def sound(self):\n",
        "        print(\"Moo\")\n",
        "\n",
        "class Sheep(Animal):\n",
        "    def sound(self):\n",
        "        print(\"Baa\")\n",
        "\n",
        "c = Cow()\n",
        "s = Sheep()\n",
        "c.sound()\n",
        "s.sound()\n"
      ],
      "metadata": {
        "colab": {
          "base_uri": "https://localhost:8080/"
        },
        "id": "Nug4hU7FIhhC",
        "outputId": "39e363a5-9281-4acc-ac91-87ff3141bada"
      },
      "execution_count": 16,
      "outputs": [
        {
          "output_type": "stream",
          "name": "stdout",
          "text": [
            "Moo\n",
            "Baa\n"
          ]
        }
      ]
    },
    {
      "cell_type": "markdown",
      "source": [
        "17. Create a class Book with attributes title, author, and year_published. Add a method get_book_info() that returns a formatted string with the book's details.\n"
      ],
      "metadata": {
        "id": "qPJEy5t7Jz4V"
      }
    },
    {
      "cell_type": "code",
      "source": [
        "class Book:\n",
        "    def __init__(self, title, author, year_published):\n",
        "        self.title = title\n",
        "        self.author = author\n",
        "        self.year_published = year_published\n",
        "\n",
        "    def get_book_info(self):\n",
        "        return f\"'{self.title}' by {self.author} ({self.year_published})\"\n",
        "\n",
        "b = Book(\"1984\", \"George Orwell\", 1949)\n",
        "print(b.get_book_info())\n"
      ],
      "metadata": {
        "colab": {
          "base_uri": "https://localhost:8080/"
        },
        "id": "KC3J7CJSIheA",
        "outputId": "89f77c07-7485-4852-8910-00be640d0e90"
      },
      "execution_count": 17,
      "outputs": [
        {
          "output_type": "stream",
          "name": "stdout",
          "text": [
            "'1984' by George Orwell (1949)\n"
          ]
        }
      ]
    },
    {
      "cell_type": "markdown",
      "source": [
        "18. Create a class House with attributes address and price. Create a derived class Mansion that adds an attribute number_of_rooms."
      ],
      "metadata": {
        "id": "x3e6Rvg7J5W2"
      }
    },
    {
      "cell_type": "code",
      "source": [
        "class House:\n",
        "    def __init__(self, address, price):\n",
        "        self.address = address\n",
        "        self.price = price\n",
        "\n",
        "class Mansion(House):\n",
        "    def __init__(self, address, price, number_of_rooms):\n",
        "        super().__init__(address, price)\n",
        "        self.number_of_rooms = number_of_rooms\n",
        "\n",
        "m = Mansion(\"Beverly Hills\", 1000000, 10)\n",
        "print(m.address, m.price, m.number_of_rooms)\n"
      ],
      "metadata": {
        "colab": {
          "base_uri": "https://localhost:8080/"
        },
        "id": "1O8K_IATIhbd",
        "outputId": "1ba7d6ae-2ec6-4b62-db1a-51e9d2b9d76d"
      },
      "execution_count": 18,
      "outputs": [
        {
          "output_type": "stream",
          "name": "stdout",
          "text": [
            "Beverly Hills 1000000 10\n"
          ]
        }
      ]
    }
  ]
}